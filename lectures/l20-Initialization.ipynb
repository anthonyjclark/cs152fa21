{
 "cells": [
  {
   "cell_type": "code",
   "execution_count": 13,
   "id": "c2780433",
   "metadata": {},
   "outputs": [],
   "source": [
    "from utils import (\n",
    "    get_mnist_data_loaders,\n",
    "    NN_FC_CrossEntropy,\n",
    "    compute_validation_accuracy_multi,\n",
    "    train_one_epoch,\n",
    ")\n",
    "\n",
    "from fastprogress.fastprogress import master_bar\n",
    "\n",
    "import torch\n",
    "\n",
    "import matplotlib.pyplot as plt\n",
    "from jupyterthemes import jtplot\n",
    "\n",
    "jtplot.style(context=\"talk\")"
   ]
  },
  {
   "cell_type": "code",
   "execution_count": 28,
   "id": "c15498f8",
   "metadata": {},
   "outputs": [
    {
     "name": "stdout",
     "output_type": "stream",
     "text": [
      "Using 'cpu' device.\n"
     ]
    }
   ],
   "source": [
    "# Configuration parameters\n",
    "data_path = \"../data\"\n",
    "seed = 0\n",
    "torch.manual_seed(seed)\n",
    "\n",
    "# Hyperparameters\n",
    "num_epochs = 4\n",
    "batch_size = 128\n",
    "valid_batch_size = 0\n",
    "# The optimizer includes default hyperparameter values\n",
    "\n",
    "# Training device\n",
    "device = \"cpu\" # \"cuda\" if torch.cuda.is_available() else \"cpu\"\n",
    "print(f\"Using '{device}' device.\")"
   ]
  },
  {
   "cell_type": "code",
   "execution_count": 29,
   "id": "a8b54325",
   "metadata": {},
   "outputs": [],
   "source": [
    "# Get data loaders\n",
    "train_loader, valid_loader = get_mnist_data_loaders(\n",
    "    data_path, batch_size, valid_batch_size\n",
    ")"
   ]
  },
  {
   "cell_type": "code",
   "execution_count": 49,
   "id": "5f22ebb4",
   "metadata": {},
   "outputs": [],
   "source": [
    "# Create neural network model\n",
    "nx = train_loader.dataset.data.shape[1:].numel()\n",
    "ny = len(train_loader.dataset.classes)\n",
    "layer_sizes = (nx, 20, 20, ny)\n",
    "\n",
    "model = NN_FC_CrossEntropy(layer_sizes, torch.nn.Sigmoid).to(device)\n",
    "\n",
    "# Training utilities\n",
    "criterion = torch.nn.CrossEntropyLoss()\n",
    "optimizer = torch.optim.Adam(model.parameters())"
   ]
  },
  {
   "cell_type": "code",
   "execution_count": 53,
   "id": "e91a6af3",
   "metadata": {},
   "outputs": [
    {
     "name": "stdout",
     "output_type": "stream",
     "text": [
      "Initializing Linear(in_features=784, out_features=20, bias=True)\n",
      "Initializing Linear(in_features=20, out_features=20, bias=True)\n",
      "Initializing Linear(in_features=20, out_features=10, bias=True)\n"
     ]
    },
    {
     "data": {
      "text/plain": [
       "NN_FC_CrossEntropy(\n",
       "  (layers): Sequential(\n",
       "    (0): Flatten(start_dim=1, end_dim=-1)\n",
       "    (1): Sequential(\n",
       "      (0): Linear(in_features=784, out_features=20, bias=True)\n",
       "      (1): Sigmoid()\n",
       "    )\n",
       "    (2): Sequential(\n",
       "      (0): Linear(in_features=20, out_features=20, bias=True)\n",
       "      (1): Sigmoid()\n",
       "    )\n",
       "    (3): Linear(in_features=20, out_features=10, bias=True)\n",
       "  )\n",
       ")"
      ]
     },
     "execution_count": 53,
     "metadata": {},
     "output_type": "execute_result"
    }
   ],
   "source": [
    "def init_weights(layer):\n",
    "    if type(layer) == torch.nn.Linear:\n",
    "        print(\"Initializing\", layer)\n",
    "        \n",
    "        if kind == \"zeros\":\n",
    "            layer.weight.data.fill_(0.0)\n",
    "            layer.bias.data.fill_(0.0)\n",
    "        \n",
    "        elif kind == \"ones\":\n",
    "            layer.weight.data.fill_(1.0)\n",
    "            layer.bias.data.fill_(1.0)\n",
    "\n",
    "        elif kind == \"uniform\":\n",
    "            layer.weight.data.uniform_()\n",
    "            layer.bias.data.fill_(0.0)\n",
    "        \n",
    "        elif kind == \"normal\":        \n",
    "            layer.weight.data.normal_()\n",
    "            layer.bias.data.fill_(0.0)\n",
    "        \n",
    "        elif kind == \"xavier\":\n",
    "            torch.nn.init.xavier_uniform_(layer.weight)\n",
    "        \n",
    "        elif kind == \"kaiming\":\n",
    "            torch.nn.init.kaiming_normal_(layer.weight)\n",
    "        \n",
    "        else:\n",
    "            print(f\"'{kind}' is not handled\")\n",
    "\n",
    "\n",
    "kind = \"zeros\"\n",
    "model.apply(init_weights)"
   ]
  },
  {
   "cell_type": "code",
   "execution_count": 18,
   "id": "b7f3d879",
   "metadata": {},
   "outputs": [
    {
     "data": {
      "text/html": [
       "  0: validation accuracy=11.18% and loss=4.777<p>  1: validation accuracy=50.06% and loss=1.569<p>  2: validation accuracy=66.58% and loss=1.078<p>  3: validation accuracy=74.28% and loss=0.824<p>  4: validation accuracy=78.46% and loss=0.689"
      ],
      "text/plain": [
       "<IPython.core.display.HTML object>"
      ]
     },
     "metadata": {},
     "output_type": "display_data"
    }
   ],
   "source": [
    "# Training loop\n",
    "mb = master_bar(range(num_epochs))\n",
    "compute_validation_accuracy_multi(valid_loader, model, criterion, device, mb, 0)\n",
    "for epoch in mb:\n",
    "    train_one_epoch(train_loader, model, criterion, optimizer, device, mb)\n",
    "    loss, accuracy = compute_validation_accuracy_multi(\n",
    "        valid_loader, model, criterion, device, mb, epoch + 1\n",
    "    )"
   ]
  },
  {
   "cell_type": "code",
   "execution_count": null,
   "id": "404b55ed",
   "metadata": {},
   "outputs": [],
   "source": [
    "X, Y = next(iter(train_loader))\n",
    "X.shape, Y.shape"
   ]
  },
  {
   "cell_type": "code",
   "execution_count": 70,
   "id": "5039ad8e",
   "metadata": {},
   "outputs": [
    {
     "name": "stdout",
     "output_type": "stream",
     "text": [
      "Initializing Linear(in_features=784, out_features=100, bias=True)\n",
      "Initializing Linear(in_features=100, out_features=100, bias=True)\n",
      "Initializing Linear(in_features=100, out_features=100, bias=True)\n",
      "Initializing Linear(in_features=100, out_features=10, bias=True)\n",
      "*** Mean = 0.025, STD = 1.028\n",
      "Flatten(start_dim=1, end_dim=-1)\n",
      "*** Mean = 0.025, STD = 1.028\n",
      "Linear(in_features=784, out_features=100, bias=True)\n",
      "*** Mean = 0.019, STD = 1.427\n",
      "BatchNorm1d(100, eps=1e-05, momentum=0.1, affine=True, track_running_stats=True)\n",
      "*** Mean = -0.000, STD = 1.000\n",
      "Linear(in_features=100, out_features=100, bias=True)\n",
      "*** Mean = 0.001, STD = 1.435\n",
      "Linear(in_features=100, out_features=100, bias=True)\n",
      "*** Mean = 0.015, STD = 2.002\n",
      "Linear(in_features=100, out_features=10, bias=True)\n",
      "*** Mean = 0.013, STD = 2.850\n"
     ]
    }
   ],
   "source": [
    "model = torch.nn.Sequential(\n",
    "    torch.nn.Flatten(),\n",
    "    torch.nn.Linear(784, 100),\n",
    "    torch.nn.Linear(100, 100),\n",
    "    torch.nn.Linear(100, 100),\n",
    "    torch.nn.Linear(100, 10)\n",
    ")\n",
    "\n",
    "kind = \"kaiming\"\n",
    "model.apply(init_weights)\n",
    "\n",
    "with torch.no_grad():\n",
    "    A = X\n",
    "    for layer in model:\n",
    "        std, mean = torch.std_mean(A)\n",
    "        print(f\"*** Mean = {mean.item():.3f}, STD = {std.item():.3f}\")\n",
    "        print(layer)\n",
    "        A = layer(A)\n",
    "    std, mean = torch.std_mean(A)\n",
    "    print(f\"*** Mean = {mean.item():.3f}, STD = {std.item():.3f}\")"
   ]
  },
  {
   "cell_type": "code",
   "execution_count": 68,
   "id": "6c2f2783",
   "metadata": {},
   "outputs": [
    {
     "data": {
      "text/plain": [
       "torch.Size([128, 1, 28, 28])"
      ]
     },
     "execution_count": 68,
     "metadata": {},
     "output_type": "execute_result"
    }
   ],
   "source": [
    "X.shape"
   ]
  },
  {
   "cell_type": "code",
   "execution_count": null,
   "id": "f3313335",
   "metadata": {},
   "outputs": [],
   "source": [
    "torch.nn.BatchNorm1d()"
   ]
  }
 ],
 "metadata": {
  "kernelspec": {
   "display_name": "Python 3 (ipykernel)",
   "language": "python",
   "name": "python3"
  },
  "language_info": {
   "codemirror_mode": {
    "name": "ipython",
    "version": 3
   },
   "file_extension": ".py",
   "mimetype": "text/x-python",
   "name": "python",
   "nbconvert_exporter": "python",
   "pygments_lexer": "ipython3",
   "version": "3.8.5"
  }
 },
 "nbformat": 4,
 "nbformat_minor": 5
}
