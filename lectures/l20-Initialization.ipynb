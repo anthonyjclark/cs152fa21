{
 "cells": [
  {
   "cell_type": "code",
   "execution_count": 1,
   "id": "c2780433",
   "metadata": {},
   "outputs": [],
   "source": [
    "from utils import (\n",
    "    get_mnist_data_loaders,\n",
    "    NN_FC_CrossEntropy,\n",
    "    compute_validation_accuracy_multi,\n",
    "    train_one_epoch,\n",
    ")\n",
    "\n",
    "from fastprogress.fastprogress import master_bar\n",
    "\n",
    "import torch\n",
    "\n",
    "import matplotlib.pyplot as plt\n",
    "from jupyterthemes import jtplot\n",
    "\n",
    "jtplot.style(context=\"talk\")"
   ]
  },
  {
   "cell_type": "code",
   "execution_count": 2,
   "id": "c15498f8",
   "metadata": {},
   "outputs": [
    {
     "name": "stdout",
     "output_type": "stream",
     "text": [
      "Using 'cpu' device.\n"
     ]
    }
   ],
   "source": [
    "# Configuration parameters\n",
    "data_path = \"../data\"\n",
    "seed = 0\n",
    "torch.manual_seed(seed)\n",
    "\n",
    "# Hyperparameters\n",
    "num_epochs = 4\n",
    "batch_size = 128\n",
    "valid_batch_size = 0\n",
    "# The optimizer includes default hyperparameter values\n",
    "\n",
    "# Training device\n",
    "device = \"cpu\" # \"cuda\" if torch.cuda.is_available() else \"cpu\"\n",
    "print(f\"Using '{device}' device.\")"
   ]
  },
  {
   "cell_type": "code",
   "execution_count": 3,
   "id": "a8b54325",
   "metadata": {},
   "outputs": [
    {
     "name": "stderr",
     "output_type": "stream",
     "text": [
      "/opt/mambaforge/envs/cs152/lib/python3.8/site-packages/torchvision/datasets/mnist.py:498: UserWarning: The given NumPy array is not writeable, and PyTorch does not support non-writeable tensors. This means you can write to the underlying (supposedly non-writeable) NumPy array using the tensor. You may want to copy the array to protect its data or make it writeable before converting it to a tensor. This type of warning will be suppressed for the rest of this program. (Triggered internally at  /tmp/pip-req-build-pma2oi4d/torch/csrc/utils/tensor_numpy.cpp:180.)\n",
      "  return torch.from_numpy(parsed.astype(m[2], copy=False)).view(*s)\n"
     ]
    }
   ],
   "source": [
    "# Get data loaders\n",
    "train_loader, valid_loader = get_mnist_data_loaders(\n",
    "    data_path, batch_size, valid_batch_size\n",
    ")"
   ]
  },
  {
   "cell_type": "code",
   "execution_count": 32,
   "id": "5f22ebb4",
   "metadata": {},
   "outputs": [],
   "source": [
    "# Create neural network model\n",
    "nx = train_loader.dataset.data.shape[1:].numel()\n",
    "ny = len(train_loader.dataset.classes)\n",
    "layer_sizes = (nx, 20, 20, ny)\n",
    "\n",
    "model = NN_FC_CrossEntropy(layer_sizes, torch.nn.Sigmoid).to(device)\n",
    "\n",
    "# Training utilities\n",
    "criterion = torch.nn.CrossEntropyLoss()\n",
    "optimizer = torch.optim.Adam(model.parameters())"
   ]
  },
  {
   "cell_type": "code",
   "execution_count": 33,
   "id": "e91a6af3",
   "metadata": {},
   "outputs": [
    {
     "name": "stdout",
     "output_type": "stream",
     "text": [
      "Initializing Linear(in_features=784, out_features=20, bias=True)\n",
      "Initializing Linear(in_features=20, out_features=20, bias=True)\n",
      "Initializing Linear(in_features=20, out_features=10, bias=True)\n"
     ]
    },
    {
     "data": {
      "text/plain": [
       "NN_FC_CrossEntropy(\n",
       "  (layers): Sequential(\n",
       "    (0): Flatten(start_dim=1, end_dim=-1)\n",
       "    (1): Sequential(\n",
       "      (0): Linear(in_features=784, out_features=20, bias=True)\n",
       "      (1): Sigmoid()\n",
       "    )\n",
       "    (2): Sequential(\n",
       "      (0): Linear(in_features=20, out_features=20, bias=True)\n",
       "      (1): Sigmoid()\n",
       "    )\n",
       "    (3): Linear(in_features=20, out_features=10, bias=True)\n",
       "  )\n",
       ")"
      ]
     },
     "execution_count": 33,
     "metadata": {},
     "output_type": "execute_result"
    }
   ],
   "source": [
    "def init_weights(layer):\n",
    "    if type(layer) == torch.nn.Linear:\n",
    "        print(\"Initializing\", layer)\n",
    "        \n",
    "        if kind == \"zeros\":\n",
    "            layer.weight.data.fill_(0.0)\n",
    "            layer.bias.data.fill_(0.0)\n",
    "        \n",
    "        elif kind == \"ones\":\n",
    "            layer.weight.data.fill_(1.0)\n",
    "            layer.bias.data.fill_(1.0)\n",
    "\n",
    "        elif kind == \"uniform\":\n",
    "            layer.weight.data.uniform_()\n",
    "            layer.bias.data.fill_(0.0)\n",
    "        \n",
    "        elif kind == \"normal\":        \n",
    "            layer.weight.data.normal_()\n",
    "            layer.bias.data.fill_(0.0)\n",
    "\n",
    "        elif kind == \"normal2\":        \n",
    "            layer.weight.data.normal_() * (1 / torch.sqrt(layer.weight.shape[0]))\n",
    "            layer.bias.data.fill_(0.0)\n",
    "        \n",
    "        elif kind == \"xavier\":\n",
    "            torch.nn.init.xavier_uniform_(layer.weight)\n",
    "        \n",
    "        elif kind == \"kaiming\":\n",
    "            torch.nn.init.kaiming_normal_(layer.weight)\n",
    "        \n",
    "        else:\n",
    "            print(f\"'{kind}' is not handled\")\n",
    "\n",
    "\n",
    "kind = \"kaiming\"\n",
    "model.apply(init_weights)"
   ]
  },
  {
   "cell_type": "code",
   "execution_count": 34,
   "id": "b7f3d879",
   "metadata": {},
   "outputs": [
    {
     "data": {
      "text/html": [
       "  0: validation accuracy= 9.35% and loss=2.600<p>  1: validation accuracy=88.57% and loss=0.805<p>  2: validation accuracy=90.89% and loss=0.431<p>  3: validation accuracy=91.96% and loss=0.322<p>  4: validation accuracy=92.54% and loss=0.280"
      ],
      "text/plain": [
       "<IPython.core.display.HTML object>"
      ]
     },
     "metadata": {},
     "output_type": "display_data"
    }
   ],
   "source": [
    "# Training loop\n",
    "mb = master_bar(range(num_epochs))\n",
    "compute_validation_accuracy_multi(valid_loader, model, criterion, device, mb, 0)\n",
    "for epoch in mb:\n",
    "    train_one_epoch(train_loader, model, criterion, optimizer, device, mb)\n",
    "    loss, accuracy = compute_validation_accuracy_multi(\n",
    "        valid_loader, model, criterion, device, mb, epoch + 1\n",
    "    )"
   ]
  },
  {
   "cell_type": "code",
   "execution_count": 22,
   "id": "404b55ed",
   "metadata": {},
   "outputs": [
    {
     "data": {
      "text/plain": [
       "(torch.Size([128, 1, 28, 28]), torch.Size([128]))"
      ]
     },
     "execution_count": 22,
     "metadata": {},
     "output_type": "execute_result"
    }
   ],
   "source": [
    "X, Y = next(iter(train_loader))\n",
    "X.shape, Y.shape"
   ]
  },
  {
   "cell_type": "code",
   "execution_count": 37,
   "id": "5039ad8e",
   "metadata": {},
   "outputs": [
    {
     "name": "stdout",
     "output_type": "stream",
     "text": [
      "Initializing Linear(in_features=784, out_features=100, bias=True)\n",
      "Initializing Linear(in_features=100, out_features=100, bias=True)\n",
      "Initializing Linear(in_features=100, out_features=100, bias=True)\n",
      "Initializing Linear(in_features=100, out_features=10, bias=True)\n",
      "*** Mean = -0.013, STD = 0.986\n",
      "Flatten(start_dim=1, end_dim=-1)\n",
      "*** Mean = -0.013, STD = 0.986\n",
      "Linear(in_features=784, out_features=100, bias=True)\n",
      "*** Mean = -0.011, STD = 1.438\n",
      "BatchNorm1d(100, eps=1e-05, momentum=0.1, affine=True, track_running_stats=True)\n",
      "*** Mean = -0.000, STD = 1.000\n",
      "Linear(in_features=100, out_features=100, bias=True)\n",
      "*** Mean = -0.016, STD = 1.441\n",
      "Linear(in_features=100, out_features=100, bias=True)\n",
      "*** Mean = 0.001, STD = 2.057\n",
      "Linear(in_features=100, out_features=10, bias=True)\n",
      "*** Mean = 0.050, STD = 3.143\n"
     ]
    }
   ],
   "source": [
    "model = torch.nn.Sequential(\n",
    "    torch.nn.Flatten(),\n",
    "    torch.nn.Linear(784, 100),\n",
    "    torch.nn.BatchNorm1d(100),\n",
    "    torch.nn.Linear(100, 100),\n",
    "    torch.nn.Linear(100, 100),\n",
    "    torch.nn.Linear(100, 10)\n",
    ")\n",
    "\n",
    "kind = \"kaiming\"\n",
    "model.apply(init_weights)\n",
    "\n",
    "with torch.no_grad():\n",
    "    A = X\n",
    "#     for layer in model.layers:\n",
    "    for layer in model:\n",
    "        std, mean = torch.std_mean(A)\n",
    "        print(f\"*** Mean = {mean.item():.3f}, STD = {std.item():.3f}\")\n",
    "        print(layer)\n",
    "#         if hasattr(layer, \"weight\"):\n",
    "#             print(torch.std_mean(layer.weight))\n",
    "        A = layer(A)\n",
    "    std, mean = torch.std_mean(A)\n",
    "    print(f\"*** Mean = {mean.item():.3f}, STD = {std.item():.3f}\")"
   ]
  },
  {
   "cell_type": "code",
   "execution_count": 68,
   "id": "6c2f2783",
   "metadata": {},
   "outputs": [
    {
     "data": {
      "text/plain": [
       "torch.Size([128, 1, 28, 28])"
      ]
     },
     "execution_count": 68,
     "metadata": {},
     "output_type": "execute_result"
    }
   ],
   "source": [
    "X.shape"
   ]
  },
  {
   "cell_type": "code",
   "execution_count": null,
   "id": "f3313335",
   "metadata": {},
   "outputs": [],
   "source": [
    "torch.nn.BatchNorm1d()"
   ]
  }
 ],
 "metadata": {
  "kernelspec": {
   "display_name": "Python 3 (ipykernel)",
   "language": "python",
   "name": "python3"
  },
  "language_info": {
   "codemirror_mode": {
    "name": "ipython",
    "version": 3
   },
   "file_extension": ".py",
   "mimetype": "text/x-python",
   "name": "python",
   "nbconvert_exporter": "python",
   "pygments_lexer": "ipython3",
   "version": "3.8.5"
  }
 },
 "nbformat": 4,
 "nbformat_minor": 5
}
