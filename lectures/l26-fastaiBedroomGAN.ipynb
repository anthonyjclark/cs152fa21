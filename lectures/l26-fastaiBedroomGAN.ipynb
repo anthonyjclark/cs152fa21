{
 "cells": [
  {
   "cell_type": "markdown",
   "id": "ac611a8f",
   "metadata": {},
   "source": [
    "- https://github.com/nashory/gans-awesome-applications\n",
    "- https://deepmind.com/blog/article/wavenet-generative-model-raw-audio"
   ]
  },
  {
   "cell_type": "code",
   "execution_count": null,
   "id": "37b8b503",
   "metadata": {},
   "outputs": [],
   "source": [
    "from fastai.vision.all import *\n",
    "from fastai.vision.gan import *"
   ]
  },
  {
   "cell_type": "code",
   "execution_count": null,
   "id": "e4fb7d42",
   "metadata": {},
   "outputs": [],
   "source": [
    "path = untar_data(URLs.LSUN_BEDROOMS)"
   ]
  },
  {
   "cell_type": "code",
   "execution_count": null,
   "id": "70d124a6",
   "metadata": {},
   "outputs": [],
   "source": [
    "size = 64\n",
    "bs = 128\n",
    "\n",
    "dblock = DataBlock(\n",
    "    blocks=(TransformBlock, ImageBlock),\n",
    "    get_x=generate_noise,\n",
    "    get_items=get_image_files,\n",
    "    splitter=IndexSplitter([]),\n",
    "    item_tfms=Resize((size, size), method=ResizeMethod.Pad),\n",
    "    batch_tfms=Normalize.from_stats(\n",
    "        torch.tensor([0.5, 0.5, 0.5]), torch.tensor([0.5, 0.5, 0.5])\n",
    "    ),\n",
    ")\n",
    "\n",
    "dls = dblock.dataloaders(path, path=path, bs=bs)"
   ]
  },
  {
   "cell_type": "code",
   "execution_count": null,
   "id": "ceeec6c1",
   "metadata": {},
   "outputs": [],
   "source": [
    "dls.show_batch()"
   ]
  },
  {
   "cell_type": "code",
   "execution_count": null,
   "id": "35253108",
   "metadata": {},
   "outputs": [],
   "source": [
    "generator = basic_generator(out_size=size, n_channels=3, n_extra_layers=1)\n",
    "critic = basic_critic(in_size=size, n_channels=3, n_extra_layers=1)\n",
    "learn = GANLearner.wgan(dls, generator, critic, opt_func=Adam)"
   ]
  },
  {
   "cell_type": "code",
   "execution_count": null,
   "id": "b601420e",
   "metadata": {},
   "outputs": [],
   "source": [
    "learn.recorder.train_metrics = True\n",
    "learn.recorder.valid_metrics = False\n",
    "learn.fit(5, 2e-4, wd=0.)"
   ]
  },
  {
   "cell_type": "code",
   "execution_count": null,
   "id": "47f2b882",
   "metadata": {},
   "outputs": [],
   "source": [
    "learn.show_results(max_n=30, ds_idx=0)"
   ]
  },
  {
   "cell_type": "code",
   "execution_count": null,
   "id": "bda52659",
   "metadata": {},
   "outputs": [],
   "source": [
    "learn.fit(25, 2e-4, wd=0.)"
   ]
  },
  {
   "cell_type": "code",
   "execution_count": null,
   "id": "432a8d4c",
   "metadata": {},
   "outputs": [],
   "source": [
    "learn.show_results(max_n=30, ds_idx=0)"
   ]
  },
  {
   "cell_type": "code",
   "execution_count": null,
   "id": "5ac9a79f",
   "metadata": {},
   "outputs": [],
   "source": [
    "learn.export('bedroomgan.pkl')"
   ]
  },
  {
   "cell_type": "code",
   "execution_count": null,
   "id": "3d7557f4",
   "metadata": {},
   "outputs": [],
   "source": []
  }
 ],
 "metadata": {
  "jupytext": {
   "formats": "ipynb,auto:percent"
  },
  "kernelspec": {
   "display_name": "Python 3 (ipykernel)",
   "language": "python",
   "name": "python3"
  },
  "language_info": {
   "codemirror_mode": {
    "name": "ipython",
    "version": 3
   },
   "file_extension": ".py",
   "mimetype": "text/x-python",
   "name": "python",
   "nbconvert_exporter": "python",
   "pygments_lexer": "ipython3",
   "version": "3.8.5"
  }
 },
 "nbformat": 4,
 "nbformat_minor": 5
}
